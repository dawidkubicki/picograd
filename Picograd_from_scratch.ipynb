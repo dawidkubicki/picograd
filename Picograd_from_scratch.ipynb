{
 "cells": [
  {
   "cell_type": "code",
   "execution_count": 1,
   "metadata": {},
   "outputs": [],
   "source": [
    "# Many of those is based on Andrej Karpathy blog"
   ]
  },
  {
   "cell_type": "code",
   "execution_count": 2,
   "metadata": {},
   "outputs": [],
   "source": [
    "import numpy as np\n",
    "import matplotlib.pyplot as plt\n",
    "import math"
   ]
  },
  {
   "cell_type": "code",
   "execution_count": 3,
   "metadata": {},
   "outputs": [],
   "source": [
    "def f(x):\n",
    "    return 3*x**2 - 4*x + 5"
   ]
  },
  {
   "cell_type": "code",
   "execution_count": 4,
   "metadata": {},
   "outputs": [
    {
     "data": {
      "text/plain": [
       "20.0"
      ]
     },
     "execution_count": 4,
     "metadata": {},
     "output_type": "execute_result"
    }
   ],
   "source": [
    "f(3.0)"
   ]
  },
  {
   "cell_type": "code",
   "execution_count": 5,
   "metadata": {},
   "outputs": [],
   "source": [
    "xs = np.arange(-5, 5, 0.25)\n",
    "ys = f(xs)"
   ]
  },
  {
   "cell_type": "code",
   "execution_count": 6,
   "metadata": {},
   "outputs": [
    {
     "data": {
      "text/plain": [
       "[<matplotlib.lines.Line2D at 0x7fdaa3712760>]"
      ]
     },
     "execution_count": 6,
     "metadata": {},
     "output_type": "execute_result"
    },
    {
     "data": {
      "image/png": "[encoded data removed]",
      "text/plain": [
       "<Figure size 432x288 with 1 Axes>"
      ]
     },
     "metadata": {
      "needs_background": "light"
     },
     "output_type": "display_data"
    }
   ],
   "source": [
    "plt.plot(xs, ys)"
   ]
  },
  {
   "cell_type": "code",
   "execution_count": 7,
   "metadata": {},
   "outputs": [],
   "source": [
    "# Let's try out calculate derivative of our f function with small h"
   ]
  },
  {
   "cell_type": "code",
   "execution_count": 8,
   "metadata": {},
   "outputs": [
    {
     "data": {
      "text/plain": [
       "3.666666666666667"
      ]
     },
     "execution_count": 8,
     "metadata": {},
     "output_type": "execute_result"
    }
   ],
   "source": [
    "h = 0.000001\n",
    "x = 2/3\n",
    "f(x)"
   ]
  },
  {
   "cell_type": "code",
   "execution_count": 9,
   "metadata": {
    "scrolled": true
   },
   "outputs": [
    {
     "data": {
      "text/plain": [
       "2.999378523327323e-06"
      ]
     },
     "execution_count": 9,
     "metadata": {},
     "output_type": "execute_result"
    }
   ],
   "source": [
    "(f(x+h)-f(x))/h"
   ]
  },
  {
   "cell_type": "markdown",
   "metadata": {},
   "source": [
    "More complex function"
   ]
  },
  {
   "cell_type": "code",
   "execution_count": 10,
   "metadata": {},
   "outputs": [
    {
     "name": "stdout",
     "output_type": "stream",
     "text": [
      "4.0\n"
     ]
    }
   ],
   "source": [
    "h = 0.000001\n",
    "a = 2.0\n",
    "b = -3.0\n",
    "c = 10.0\n",
    "d = a*b + c\n",
    "print(d)"
   ]
  },
  {
   "cell_type": "code",
   "execution_count": 11,
   "metadata": {},
   "outputs": [
    {
     "name": "stdout",
     "output_type": "stream",
     "text": [
      "d1 4.0\n",
      "d2 4.000000999999999\n",
      "slope 0.9999999992515995\n"
     ]
    }
   ],
   "source": [
    "h = 0.000001\n",
    "\n",
    "# inputs\n",
    "a = 2.0\n",
    "b = -3.0\n",
    "c = 10.0\n",
    "\n",
    "d1 = a*b + c\n",
    "c += h\n",
    "d2 = a*b + c\n",
    "\n",
    "print('d1', d1)\n",
    "print('d2', d2)\n",
    "print('slope', (d2-d1)/h)"
   ]
  },
  {
   "cell_type": "code",
   "execution_count": 54,
   "metadata": {},
   "outputs": [],
   "source": [
    "class Value:\n",
    "    def __init__(self, data, _children=(), _op='', label=''):\n",
    "        self.data = data\n",
    "        self.grad = 0.0\n",
    "        self._prev = set(_children)\n",
    "        self._backward = lambda: None\n",
    "        self._op = _op\n",
    "        self.label = label\n",
    "    \n",
    "    def __repr__(self):\n",
    "        return f\"Value(data={self.data})\"\n",
    "    \n",
    "    def __add__(self, other):\n",
    "        out = Value(self.data + other.data, _children=(self, other), _op='+')\n",
    "        def _backward():\n",
    "            self.grad = 1 * out.grad\n",
    "            other.grad = 1 * out.grad\n",
    "        \n",
    "        out._backward = _backward\n",
    "        return out\n",
    "    \n",
    "    def __mul__(self, other):\n",
    "        out = Value(self.data * other.data, _children=(self, other), _op='*')\n",
    "        def _backward():\n",
    "            self.grad = other.data * out.grad\n",
    "            other.grad = self.data * out.grad\n",
    "        \n",
    "        out._backward = _backward\n",
    "        return out\n",
    "    \n",
    "    def tanh(self):\n",
    "        x = self.data\n",
    "        t = math.tanh(x)\n",
    "        def _backward():\n",
    "            self.grad = (1-math.tanh(x)**2) * out.grad\n",
    "        \n",
    "        out = Value(t, (self, ), 'tanh')\n",
    "        out._backward = _backward\n",
    "        return out"
   ]
  },
  {
   "cell_type": "code",
   "execution_count": 42,
   "metadata": {},
   "outputs": [
    {
     "data": {
      "text/plain": [
       "Value(data=-8.0)"
      ]
     },
     "execution_count": 42,
     "metadata": {},
     "output_type": "execute_result"
    }
   ],
   "source": [
    "a = Value(2.0, label='a')\n",
    "b = Value(-3.0, label='b')\n",
    "c = Value(10.0, label='c')\n",
    "e = a*b; e.label = 'e'\n",
    "d = e + c; d.label = 'd'\n",
    "f = Value(-2.0, label='f')\n",
    "L = d * f; L.label = 'L'\n",
    "L"
   ]
  },
  {
   "cell_type": "code",
   "execution_count": 14,
   "metadata": {
    "scrolled": true
   },
   "outputs": [
    {
     "data": {
      "text/plain": [
       "{Value(data=-6.0), Value(data=10.0)}"
      ]
     },
     "execution_count": 14,
     "metadata": {},
     "output_type": "execute_result"
    }
   ],
   "source": [
    "d._prev"
   ]
  },
  {
   "cell_type": "code",
   "execution_count": 15,
   "metadata": {
    "scrolled": true
   },
   "outputs": [
    {
     "data": {
      "text/plain": [
       "'+'"
      ]
     },
     "execution_count": 15,
     "metadata": {},
     "output_type": "execute_result"
    }
   ],
   "source": [
    "d._op"
   ]
  },
  {
   "cell_type": "markdown",
   "metadata": {},
   "source": [
    "Visually tracing derivitave calc"
   ]
  },
  {
   "cell_type": "code",
   "execution_count": 16,
   "metadata": {},
   "outputs": [],
   "source": [
    "from graphviz import Digraph\n",
    "\n",
    "def trace(root):\n",
    "    nodes, edges = set(), set()\n",
    "    def build(v):\n",
    "        if v not in nodes:\n",
    "            nodes.add(v)\n",
    "            for child in v._prev:\n",
    "                edges.add((child, v))\n",
    "                build(child)\n",
    "    build(root)\n",
    "    return nodes, edges\n",
    "\n",
    "def draw_dot(root):\n",
    "    dot = Digraph(format='svg', graph_attr={'rankdir': 'LR'}) #, node_attr={'rankdir': 'TB'})\n",
    "    \n",
    "    nodes, edges = trace(root)\n",
    "    for n in nodes:\n",
    "        dot.node(name=str(id(n)), label = \"{ %s | data %.4f | grad %.4f}\" % (n.label, n.data, n.grad,), shape='record')\n",
    "        if n._op:\n",
    "            dot.node(name=str(id(n)) + n._op, label=n._op)\n",
    "            dot.edge(str(id(n)) + n._op, str(id(n)))\n",
    "    \n",
    "    for n1, n2 in edges:\n",
    "        dot.edge(str(id(n1)), str(id(n2)) + n2._op)\n",
    "    \n",
    "    return dot"
   ]
  },
  {
   "cell_type": "code",
   "execution_count": 50,
   "metadata": {
    "scrolled": true
   },
   "outputs": [
    {
     "data": {
      "image/svg+xml": [
       "<?xml version=\"1.0\" encoding=\"UTF-8\" standalone=\"no\"?>\n",
       "<!DOCTYPE svg PUBLIC \"-//W3C//DTD SVG 1.1//EN\"\n",
       " \"http://www.w3.org/Graphics/SVG/1.1/DTD/svg11.dtd\">\n",
       "<!-- Generated by graphviz version 7.1.0 (20230121.1956)\n",
       " -->\n",
       "<!-- Pages: 1 -->\n",
       "<svg width=\"1153pt\" height=\"154pt\"\n",
       " viewBox=\"0.00 0.00 1153.00 154.00\" xmlns=\"http://www.w3.org/2000/svg\" xmlns:xlink=\"http://www.w3.org/1999/xlink\">\n",
       "<g id=\"graph0\" class=\"graph\" transform=\"scale(1 1) rotate(0) translate(4 150)\">\n",
       "<polygon fill=\"white\" stroke=\"none\" points=\"-4,4 -4,-150 1149,-150 1149,4 -4,4\"/>\n",
       "<!-- 140577023302144 -->\n",
       "<g id=\"node1\" class=\"node\">\n",
       "<title>140577023302144</title>\n",
       "<polygon fill=\"none\" stroke=\"black\" points=\"317,-27.5 317,-63.5 511,-63.5 511,-27.5 317,-27.5\"/>\n",
       "<text text-anchor=\"middle\" x=\"328.5\" y=\"-41.8\" font-family=\"Times,serif\" font-size=\"14.00\">e</text>\n",
       "<polyline fill=\"none\" stroke=\"black\" points=\"340,-27.5 340,-63.5\"/>\n",
       "<text text-anchor=\"middle\" x=\"382.5\" y=\"-41.8\" font-family=\"Times,serif\" font-size=\"14.00\">data &#45;6.0000</text>\n",
       "<polyline fill=\"none\" stroke=\"black\" points=\"425,-27.5 425,-63.5\"/>\n",
       "<text text-anchor=\"middle\" x=\"468\" y=\"-41.8\" font-family=\"Times,serif\" font-size=\"14.00\">grad &#45;2.0000</text>\n",
       "</g>\n",
       "<!-- 140577023301088+ -->\n",
       "<g id=\"node10\" class=\"node\">\n",
       "<title>140577023301088+</title>\n",
       "<ellipse fill=\"none\" stroke=\"black\" cx=\"575\" cy=\"-72.5\" rx=\"27\" ry=\"18\"/>\n",
       "<text text-anchor=\"middle\" x=\"575\" y=\"-68.8\" font-family=\"Times,serif\" font-size=\"14.00\">+</text>\n",
       "</g>\n",
       "<!-- 140577023302144&#45;&gt;140577023301088+ -->\n",
       "<g id=\"edge8\" class=\"edge\">\n",
       "<title>140577023302144&#45;&gt;140577023301088+</title>\n",
       "<path fill=\"none\" stroke=\"black\" d=\"M510.7,-61.75C519.98,-63.33 528.95,-64.85 537.08,-66.23\"/>\n",
       "<polygon fill=\"black\" stroke=\"black\" points=\"536.39,-69.66 546.84,-67.89 537.56,-62.76 536.39,-69.66\"/>\n",
       "</g>\n",
       "<!-- 140577023302144* -->\n",
       "<g id=\"node2\" class=\"node\">\n",
       "<title>140577023302144*</title>\n",
       "<ellipse fill=\"none\" stroke=\"black\" cx=\"253\" cy=\"-45.5\" rx=\"27\" ry=\"18\"/>\n",
       "<text text-anchor=\"middle\" x=\"253\" y=\"-41.8\" font-family=\"Times,serif\" font-size=\"14.00\">*</text>\n",
       "</g>\n",
       "<!-- 140577023302144*&#45;&gt;140577023302144 -->\n",
       "<g id=\"edge1\" class=\"edge\">\n",
       "<title>140577023302144*&#45;&gt;140577023302144</title>\n",
       "<path fill=\"none\" stroke=\"black\" d=\"M280.26,-45.5C287.86,-45.5 296.67,-45.5 306.07,-45.5\"/>\n",
       "<polygon fill=\"black\" stroke=\"black\" points=\"305.81,-49 315.81,-45.5 305.81,-42 305.81,-49\"/>\n",
       "</g>\n",
       "<!-- 140577023300800 -->\n",
       "<g id=\"node3\" class=\"node\">\n",
       "<title>140577023300800</title>\n",
       "<polygon fill=\"none\" stroke=\"black\" points=\"0,-55.5 0,-91.5 190,-91.5 190,-55.5 0,-55.5\"/>\n",
       "<text text-anchor=\"middle\" x=\"11.5\" y=\"-69.8\" font-family=\"Times,serif\" font-size=\"14.00\">b</text>\n",
       "<polyline fill=\"none\" stroke=\"black\" points=\"23,-55.5 23,-91.5\"/>\n",
       "<text text-anchor=\"middle\" x=\"65.5\" y=\"-69.8\" font-family=\"Times,serif\" font-size=\"14.00\">data &#45;3.0000</text>\n",
       "<polyline fill=\"none\" stroke=\"black\" points=\"108,-55.5 108,-91.5\"/>\n",
       "<text text-anchor=\"middle\" x=\"149\" y=\"-69.8\" font-family=\"Times,serif\" font-size=\"14.00\">grad 0.0000</text>\n",
       "</g>\n",
       "<!-- 140577023300800&#45;&gt;140577023302144* -->\n",
       "<g id=\"edge5\" class=\"edge\">\n",
       "<title>140577023300800&#45;&gt;140577023302144*</title>\n",
       "<path fill=\"none\" stroke=\"black\" d=\"M189.9,-56.65C198.81,-55.05 207.43,-53.5 215.28,-52.09\"/>\n",
       "<polygon fill=\"black\" stroke=\"black\" points=\"215.8,-55.55 225.02,-50.34 214.56,-48.66 215.8,-55.55\"/>\n",
       "</g>\n",
       "<!-- 140577023299792 -->\n",
       "<g id=\"node4\" class=\"node\">\n",
       "<title>140577023299792</title>\n",
       "<polygon fill=\"none\" stroke=\"black\" points=\"2.5,-0.5 2.5,-36.5 187.5,-36.5 187.5,-0.5 2.5,-0.5\"/>\n",
       "<text text-anchor=\"middle\" x=\"14\" y=\"-14.8\" font-family=\"Times,serif\" font-size=\"14.00\">a</text>\n",
       "<polyline fill=\"none\" stroke=\"black\" points=\"25.5,-0.5 25.5,-36.5\"/>\n",
       "<text text-anchor=\"middle\" x=\"65.5\" y=\"-14.8\" font-family=\"Times,serif\" font-size=\"14.00\">data 2.0000</text>\n",
       "<polyline fill=\"none\" stroke=\"black\" points=\"105.5,-0.5 105.5,-36.5\"/>\n",
       "<text text-anchor=\"middle\" x=\"146.5\" y=\"-14.8\" font-family=\"Times,serif\" font-size=\"14.00\">grad 0.0000</text>\n",
       "</g>\n",
       "<!-- 140577023299792&#45;&gt;140577023302144* -->\n",
       "<g id=\"edge4\" class=\"edge\">\n",
       "<title>140577023299792&#45;&gt;140577023302144*</title>\n",
       "<path fill=\"none\" stroke=\"black\" d=\"M187.2,-34.28C197.1,-36 206.71,-37.66 215.36,-39.16\"/>\n",
       "<polygon fill=\"black\" stroke=\"black\" points=\"214.57,-42.57 225.02,-40.83 215.76,-35.68 214.57,-42.57\"/>\n",
       "</g>\n",
       "<!-- 140577023303536 -->\n",
       "<g id=\"node5\" class=\"node\">\n",
       "<title>140577023303536</title>\n",
       "<polygon fill=\"none\" stroke=\"black\" points=\"316,-82.5 316,-118.5 512,-118.5 512,-82.5 316,-82.5\"/>\n",
       "<text text-anchor=\"middle\" x=\"327.5\" y=\"-96.8\" font-family=\"Times,serif\" font-size=\"14.00\">c</text>\n",
       "<polyline fill=\"none\" stroke=\"black\" points=\"339,-82.5 339,-118.5\"/>\n",
       "<text text-anchor=\"middle\" x=\"382.5\" y=\"-96.8\" font-family=\"Times,serif\" font-size=\"14.00\">data 10.0000</text>\n",
       "<polyline fill=\"none\" stroke=\"black\" points=\"426,-82.5 426,-118.5\"/>\n",
       "<text text-anchor=\"middle\" x=\"469\" y=\"-96.8\" font-family=\"Times,serif\" font-size=\"14.00\">grad &#45;2.0000</text>\n",
       "</g>\n",
       "<!-- 140577023303536&#45;&gt;140577023301088+ -->\n",
       "<g id=\"edge6\" class=\"edge\">\n",
       "<title>140577023303536&#45;&gt;140577023301088+</title>\n",
       "<path fill=\"none\" stroke=\"black\" d=\"M511.62,-83.49C520.6,-81.9 529.27,-80.38 537.15,-78.99\"/>\n",
       "<polygon fill=\"black\" stroke=\"black\" points=\"537.71,-82.44 546.95,-77.26 536.5,-75.55 537.71,-82.44\"/>\n",
       "</g>\n",
       "<!-- 140577023302576 -->\n",
       "<g id=\"node6\" class=\"node\">\n",
       "<title>140577023302576</title>\n",
       "<polygon fill=\"none\" stroke=\"black\" points=\"953,-81.5 953,-117.5 1145,-117.5 1145,-81.5 953,-81.5\"/>\n",
       "<text text-anchor=\"middle\" x=\"965.5\" y=\"-95.8\" font-family=\"Times,serif\" font-size=\"14.00\">L</text>\n",
       "<polyline fill=\"none\" stroke=\"black\" points=\"978,-81.5 978,-117.5\"/>\n",
       "<text text-anchor=\"middle\" x=\"1020.5\" y=\"-95.8\" font-family=\"Times,serif\" font-size=\"14.00\">data &#45;8.0000</text>\n",
       "<polyline fill=\"none\" stroke=\"black\" points=\"1063,-81.5 1063,-117.5\"/>\n",
       "<text text-anchor=\"middle\" x=\"1104\" y=\"-95.8\" font-family=\"Times,serif\" font-size=\"14.00\">grad 1.0000</text>\n",
       "</g>\n",
       "<!-- 140577023302576* -->\n",
       "<g id=\"node7\" class=\"node\">\n",
       "<title>140577023302576*</title>\n",
       "<ellipse fill=\"none\" stroke=\"black\" cx=\"890\" cy=\"-99.5\" rx=\"27\" ry=\"18\"/>\n",
       "<text text-anchor=\"middle\" x=\"890\" y=\"-95.8\" font-family=\"Times,serif\" font-size=\"14.00\">*</text>\n",
       "</g>\n",
       "<!-- 140577023302576*&#45;&gt;140577023302576 -->\n",
       "<g id=\"edge2\" class=\"edge\">\n",
       "<title>140577023302576*&#45;&gt;140577023302576</title>\n",
       "<path fill=\"none\" stroke=\"black\" d=\"M917.28,-99.5C924.52,-99.5 932.85,-99.5 941.72,-99.5\"/>\n",
       "<polygon fill=\"black\" stroke=\"black\" points=\"941.69,-103 951.69,-99.5 941.69,-96 941.69,-103\"/>\n",
       "</g>\n",
       "<!-- 140577023301568 -->\n",
       "<g id=\"node8\" class=\"node\">\n",
       "<title>140577023301568</title>\n",
       "<polygon fill=\"none\" stroke=\"black\" points=\"638.5,-109.5 638.5,-145.5 826.5,-145.5 826.5,-109.5 638.5,-109.5\"/>\n",
       "<text text-anchor=\"middle\" x=\"649\" y=\"-123.8\" font-family=\"Times,serif\" font-size=\"14.00\">f</text>\n",
       "<polyline fill=\"none\" stroke=\"black\" points=\"659.5,-109.5 659.5,-145.5\"/>\n",
       "<text text-anchor=\"middle\" x=\"702\" y=\"-123.8\" font-family=\"Times,serif\" font-size=\"14.00\">data &#45;2.0000</text>\n",
       "<polyline fill=\"none\" stroke=\"black\" points=\"744.5,-109.5 744.5,-145.5\"/>\n",
       "<text text-anchor=\"middle\" x=\"785.5\" y=\"-123.8\" font-family=\"Times,serif\" font-size=\"14.00\">grad 4.0000</text>\n",
       "</g>\n",
       "<!-- 140577023301568&#45;&gt;140577023302576* -->\n",
       "<g id=\"edge7\" class=\"edge\">\n",
       "<title>140577023301568&#45;&gt;140577023302576*</title>\n",
       "<path fill=\"none\" stroke=\"black\" d=\"M826.2,-110.81C835.38,-109.16 844.27,-107.56 852.33,-106.1\"/>\n",
       "<polygon fill=\"black\" stroke=\"black\" points=\"852.77,-109.58 861.99,-104.36 851.53,-102.69 852.77,-109.58\"/>\n",
       "</g>\n",
       "<!-- 140577023301088 -->\n",
       "<g id=\"node9\" class=\"node\">\n",
       "<title>140577023301088</title>\n",
       "<polygon fill=\"none\" stroke=\"black\" points=\"638,-54.5 638,-90.5 827,-90.5 827,-54.5 638,-54.5\"/>\n",
       "<text text-anchor=\"middle\" x=\"649.5\" y=\"-68.8\" font-family=\"Times,serif\" font-size=\"14.00\">d</text>\n",
       "<polyline fill=\"none\" stroke=\"black\" points=\"661,-54.5 661,-90.5\"/>\n",
       "<text text-anchor=\"middle\" x=\"701\" y=\"-68.8\" font-family=\"Times,serif\" font-size=\"14.00\">data 4.0000</text>\n",
       "<polyline fill=\"none\" stroke=\"black\" points=\"741,-54.5 741,-90.5\"/>\n",
       "<text text-anchor=\"middle\" x=\"784\" y=\"-68.8\" font-family=\"Times,serif\" font-size=\"14.00\">grad &#45;2.0000</text>\n",
       "</g>\n",
       "<!-- 140577023301088&#45;&gt;140577023302576* -->\n",
       "<g id=\"edge9\" class=\"edge\">\n",
       "<title>140577023301088&#45;&gt;140577023302576*</title>\n",
       "<path fill=\"none\" stroke=\"black\" d=\"M826.65,-88.67C835.58,-90.22 844.23,-91.73 852.11,-93.09\"/>\n",
       "<polygon fill=\"black\" stroke=\"black\" points=\"851.45,-96.53 861.9,-94.79 852.64,-89.63 851.45,-96.53\"/>\n",
       "</g>\n",
       "<!-- 140577023301088+&#45;&gt;140577023301088 -->\n",
       "<g id=\"edge3\" class=\"edge\">\n",
       "<title>140577023301088+&#45;&gt;140577023301088</title>\n",
       "<path fill=\"none\" stroke=\"black\" d=\"M602.38,-72.5C609.63,-72.5 617.96,-72.5 626.82,-72.5\"/>\n",
       "<polygon fill=\"black\" stroke=\"black\" points=\"626.77,-76 636.77,-72.5 626.77,-69 626.77,-76\"/>\n",
       "</g>\n",
       "</g>\n",
       "</svg>\n"
      ],
      "text/plain": [
       "<graphviz.graphs.Digraph at 0x7fdaa373a760>"
      ]
     },
     "execution_count": 50,
     "metadata": {},
     "output_type": "execute_result"
    }
   ],
   "source": [
    "draw_dot(L)"
   ]
  },
  {
   "cell_type": "code",
   "execution_count": 49,
   "metadata": {},
   "outputs": [],
   "source": [
    "L.grad = 1.0\n",
    "d.grad = -2.0\n",
    "f.grad = 4.0\n",
    "c.grad = -2.0\n",
    "e.grad = -2.0\n",
    "a.grad = 6.0\n",
    "b.grad = -4.0"
   ]
  },
  {
   "cell_type": "code",
   "execution_count": 19,
   "metadata": {},
   "outputs": [
    {
     "name": "stdout",
     "output_type": "stream",
     "text": [
      "-4.000000000008441\n"
     ]
    }
   ],
   "source": [
    "def lol():\n",
    "    h = 0.0001\n",
    "    \n",
    "    a = Value(2.0, label='a')\n",
    "    b = Value(-3.0, label='b')\n",
    "    c = Value(10.0, label='c')\n",
    "    e = a*b; e.label = 'e'\n",
    "    d = e + c; d.label = 'd'\n",
    "    f = Value(-2.0, label='f')\n",
    "    L = d * f; L.label = 'L'\n",
    "    L1 = L.data\n",
    "    \n",
    "    a = Value(2.0, label='a')\n",
    "    b = Value(-3.0+h, label='b')\n",
    "    c = Value(10.0, label='c')\n",
    "    e = a*b; e.label = 'e'\n",
    "    d = e + c; d.label = 'd'\n",
    "    f = Value(-2.0, label='f')\n",
    "    L = d * f; L.label = 'L'\n",
    "    L2 = L.data\n",
    "    \n",
    "    print((L2-L1)/h)\n",
    "lol()"
   ]
  },
  {
   "cell_type": "code",
   "execution_count": 56,
   "metadata": {},
   "outputs": [],
   "source": [
    "#inputs x1, x2\n",
    "x1 = Value(2.0, label='x1')\n",
    "x2 = Value(0.0, label='x2')\n",
    "\n",
    "#weights w1, w2\n",
    "w1 = Value(-3.0,label='w1')\n",
    "w2 = Value(1.0,label='w2')\n",
    "\n",
    "#bias\n",
    "b = Value(6.88130, label='b')\n",
    "\n",
    "# x1w1 + x2w2 + b\n",
    "x1w1 = x1*w1; x1w1.label = 'x1*w1'\n",
    "x2w2 = x2*w2; x2w2.label = 'x2*w2'\n",
    "x1w1x2w2 = x1w1 + x2w2; x1w1x2w2.label = 'x1w1 + x2w2'\n",
    "n = x1w1x2w2 + b; n.label='n'\n",
    "o = n.tanh(); o.label = 'o'"
   ]
  },
  {
   "cell_type": "code",
   "execution_count": 66,
   "metadata": {
    "scrolled": false
   },
   "outputs": [
    {
     "data": {
      "image/svg+xml": [
       "<?xml version=\"1.0\" encoding=\"UTF-8\" standalone=\"no\"?>\n",
       "<!DOCTYPE svg PUBLIC \"-//W3C//DTD SVG 1.1//EN\"\n",
       " \"http://www.w3.org/Graphics/SVG/1.1/DTD/svg11.dtd\">\n",
       "<!-- Generated by graphviz version 7.1.0 (20230121.1956)\n",
       " -->\n",
       "<!-- Pages: 1 -->\n",
       "<svg width=\"1561pt\" height=\"210pt\"\n",
       " viewBox=\"0.00 0.00 1561.00 210.00\" xmlns=\"http://www.w3.org/2000/svg\" xmlns:xlink=\"http://www.w3.org/1999/xlink\">\n",
       "<g id=\"graph0\" class=\"graph\" transform=\"scale(1 1) rotate(0) translate(4 206)\">\n",
       "<polygon fill=\"white\" stroke=\"none\" points=\"-4,4 -4,-206 1557,-206 1557,4 -4,4\"/>\n",
       "<!-- 140577023302672 -->\n",
       "<g id=\"node1\" class=\"node\">\n",
       "<title>140577023302672</title>\n",
       "<polygon fill=\"none\" stroke=\"black\" points=\"4,-165.5 4,-201.5 196,-201.5 196,-165.5 4,-165.5\"/>\n",
       "<text text-anchor=\"middle\" x=\"19\" y=\"-179.8\" font-family=\"Times,serif\" font-size=\"14.00\">x2</text>\n",
       "<polyline fill=\"none\" stroke=\"black\" points=\"34,-165.5 34,-201.5\"/>\n",
       "<text text-anchor=\"middle\" x=\"74\" y=\"-179.8\" font-family=\"Times,serif\" font-size=\"14.00\">data 0.0000</text>\n",
       "<polyline fill=\"none\" stroke=\"black\" points=\"114,-165.5 114,-201.5\"/>\n",
       "<text text-anchor=\"middle\" x=\"155\" y=\"-179.8\" font-family=\"Times,serif\" font-size=\"14.00\">grad 0.5001</text>\n",
       "</g>\n",
       "<!-- 140577023803152* -->\n",
       "<g id=\"node11\" class=\"node\">\n",
       "<title>140577023803152*</title>\n",
       "<ellipse fill=\"none\" stroke=\"black\" cx=\"263\" cy=\"-128.5\" rx=\"27\" ry=\"18\"/>\n",
       "<text text-anchor=\"middle\" x=\"263\" y=\"-124.8\" font-family=\"Times,serif\" font-size=\"14.00\">*</text>\n",
       "</g>\n",
       "<!-- 140577023302672&#45;&gt;140577023803152* -->\n",
       "<g id=\"edge8\" class=\"edge\">\n",
       "<title>140577023302672&#45;&gt;140577023803152*</title>\n",
       "<path fill=\"none\" stroke=\"black\" d=\"M172.27,-165.52C181.67,-162.72 191.12,-159.7 200,-156.5 210.09,-152.87 220.83,-148.29 230.48,-143.89\"/>\n",
       "<polygon fill=\"black\" stroke=\"black\" points=\"231.87,-147.11 239.45,-139.71 228.91,-140.76 231.87,-147.11\"/>\n",
       "</g>\n",
       "<!-- 140577023302192 -->\n",
       "<g id=\"node2\" class=\"node\">\n",
       "<title>140577023302192</title>\n",
       "<polygon fill=\"none\" stroke=\"black\" points=\"2,-55.5 2,-91.5 198,-91.5 198,-55.5 2,-55.5\"/>\n",
       "<text text-anchor=\"middle\" x=\"17\" y=\"-69.8\" font-family=\"Times,serif\" font-size=\"14.00\">x1</text>\n",
       "<polyline fill=\"none\" stroke=\"black\" points=\"32,-55.5 32,-91.5\"/>\n",
       "<text text-anchor=\"middle\" x=\"72\" y=\"-69.8\" font-family=\"Times,serif\" font-size=\"14.00\">data 2.0000</text>\n",
       "<polyline fill=\"none\" stroke=\"black\" points=\"112,-55.5 112,-91.5\"/>\n",
       "<text text-anchor=\"middle\" x=\"155\" y=\"-69.8\" font-family=\"Times,serif\" font-size=\"14.00\">grad &#45;1.5002</text>\n",
       "</g>\n",
       "<!-- 140576958950608* -->\n",
       "<g id=\"node7\" class=\"node\">\n",
       "<title>140576958950608*</title>\n",
       "<ellipse fill=\"none\" stroke=\"black\" cx=\"263\" cy=\"-73.5\" rx=\"27\" ry=\"18\"/>\n",
       "<text text-anchor=\"middle\" x=\"263\" y=\"-69.8\" font-family=\"Times,serif\" font-size=\"14.00\">*</text>\n",
       "</g>\n",
       "<!-- 140577023302192&#45;&gt;140576958950608* -->\n",
       "<g id=\"edge14\" class=\"edge\">\n",
       "<title>140577023302192&#45;&gt;140576958950608*</title>\n",
       "<path fill=\"none\" stroke=\"black\" d=\"M197.91,-73.5C207.21,-73.5 216.21,-73.5 224.38,-73.5\"/>\n",
       "<polygon fill=\"black\" stroke=\"black\" points=\"224.18,-77 234.18,-73.5 224.18,-70 224.18,-77\"/>\n",
       "</g>\n",
       "<!-- 140577024099472 -->\n",
       "<g id=\"node3\" class=\"node\">\n",
       "<title>140577024099472</title>\n",
       "<polygon fill=\"none\" stroke=\"black\" points=\"1057,-54.5 1057,-90.5 1242,-90.5 1242,-54.5 1057,-54.5\"/>\n",
       "<text text-anchor=\"middle\" x=\"1068.5\" y=\"-68.8\" font-family=\"Times,serif\" font-size=\"14.00\">n</text>\n",
       "<polyline fill=\"none\" stroke=\"black\" points=\"1080,-54.5 1080,-90.5\"/>\n",
       "<text text-anchor=\"middle\" x=\"1120\" y=\"-68.8\" font-family=\"Times,serif\" font-size=\"14.00\">data 0.8813</text>\n",
       "<polyline fill=\"none\" stroke=\"black\" points=\"1160,-54.5 1160,-90.5\"/>\n",
       "<text text-anchor=\"middle\" x=\"1201\" y=\"-68.8\" font-family=\"Times,serif\" font-size=\"14.00\">grad 0.5001</text>\n",
       "</g>\n",
       "<!-- 140577024099088tanh -->\n",
       "<g id=\"node9\" class=\"node\">\n",
       "<title>140577024099088tanh</title>\n",
       "<ellipse fill=\"none\" stroke=\"black\" cx=\"1305\" cy=\"-72.5\" rx=\"27\" ry=\"18\"/>\n",
       "<text text-anchor=\"middle\" x=\"1305\" y=\"-68.8\" font-family=\"Times,serif\" font-size=\"14.00\">tanh</text>\n",
       "</g>\n",
       "<!-- 140577024099472&#45;&gt;140577024099088tanh -->\n",
       "<g id=\"edge6\" class=\"edge\">\n",
       "<title>140577024099472&#45;&gt;140577024099088tanh</title>\n",
       "<path fill=\"none\" stroke=\"black\" d=\"M1241.57,-72.5C1250.21,-72.5 1258.6,-72.5 1266.28,-72.5\"/>\n",
       "<polygon fill=\"black\" stroke=\"black\" points=\"1266.19,-76 1276.19,-72.5 1266.19,-69 1266.19,-76\"/>\n",
       "</g>\n",
       "<!-- 140577024099472+ -->\n",
       "<g id=\"node4\" class=\"node\">\n",
       "<title>140577024099472+</title>\n",
       "<ellipse fill=\"none\" stroke=\"black\" cx=\"994\" cy=\"-72.5\" rx=\"27\" ry=\"18\"/>\n",
       "<text text-anchor=\"middle\" x=\"994\" y=\"-68.8\" font-family=\"Times,serif\" font-size=\"14.00\">+</text>\n",
       "</g>\n",
       "<!-- 140577024099472+&#45;&gt;140577024099472 -->\n",
       "<g id=\"edge1\" class=\"edge\">\n",
       "<title>140577024099472+&#45;&gt;140577024099472</title>\n",
       "<path fill=\"none\" stroke=\"black\" d=\"M1021.39,-72.5C1028.62,-72.5 1036.92,-72.5 1045.74,-72.5\"/>\n",
       "<polygon fill=\"black\" stroke=\"black\" points=\"1045.64,-76 1055.64,-72.5 1045.64,-69 1045.64,-76\"/>\n",
       "</g>\n",
       "<!-- 140577023301280 -->\n",
       "<g id=\"node5\" class=\"node\">\n",
       "<title>140577023301280</title>\n",
       "<polygon fill=\"none\" stroke=\"black\" points=\"709,-27.5 709,-63.5 894,-63.5 894,-27.5 709,-27.5\"/>\n",
       "<text text-anchor=\"middle\" x=\"720.5\" y=\"-41.8\" font-family=\"Times,serif\" font-size=\"14.00\">b</text>\n",
       "<polyline fill=\"none\" stroke=\"black\" points=\"732,-27.5 732,-63.5\"/>\n",
       "<text text-anchor=\"middle\" x=\"772\" y=\"-41.8\" font-family=\"Times,serif\" font-size=\"14.00\">data 6.8813</text>\n",
       "<polyline fill=\"none\" stroke=\"black\" points=\"812,-27.5 812,-63.5\"/>\n",
       "<text text-anchor=\"middle\" x=\"853\" y=\"-41.8\" font-family=\"Times,serif\" font-size=\"14.00\">grad 0.5001</text>\n",
       "</g>\n",
       "<!-- 140577023301280&#45;&gt;140577024099472+ -->\n",
       "<g id=\"edge12\" class=\"edge\">\n",
       "<title>140577023301280&#45;&gt;140577024099472+</title>\n",
       "<path fill=\"none\" stroke=\"black\" d=\"M893.84,-58.45C915.83,-61.56 938.09,-64.72 955.94,-67.25\"/>\n",
       "<polygon fill=\"black\" stroke=\"black\" points=\"955.36,-70.7 965.75,-68.64 956.34,-63.77 955.36,-70.7\"/>\n",
       "</g>\n",
       "<!-- 140576958950608 -->\n",
       "<g id=\"node6\" class=\"node\">\n",
       "<title>140576958950608</title>\n",
       "<polygon fill=\"none\" stroke=\"black\" points=\"326,-55.5 326,-91.5 546,-91.5 546,-55.5 326,-55.5\"/>\n",
       "<text text-anchor=\"middle\" x=\"352.5\" y=\"-69.8\" font-family=\"Times,serif\" font-size=\"14.00\">x1*w1</text>\n",
       "<polyline fill=\"none\" stroke=\"black\" points=\"379,-55.5 379,-91.5\"/>\n",
       "<text text-anchor=\"middle\" x=\"421.5\" y=\"-69.8\" font-family=\"Times,serif\" font-size=\"14.00\">data &#45;6.0000</text>\n",
       "<polyline fill=\"none\" stroke=\"black\" points=\"464,-55.5 464,-91.5\"/>\n",
       "<text text-anchor=\"middle\" x=\"505\" y=\"-69.8\" font-family=\"Times,serif\" font-size=\"14.00\">grad 0.5001</text>\n",
       "</g>\n",
       "<!-- 140577021700512+ -->\n",
       "<g id=\"node14\" class=\"node\">\n",
       "<title>140577021700512+</title>\n",
       "<ellipse fill=\"none\" stroke=\"black\" cx=\"609\" cy=\"-100.5\" rx=\"27\" ry=\"18\"/>\n",
       "<text text-anchor=\"middle\" x=\"609\" y=\"-96.8\" font-family=\"Times,serif\" font-size=\"14.00\">+</text>\n",
       "</g>\n",
       "<!-- 140576958950608&#45;&gt;140577021700512+ -->\n",
       "<g id=\"edge10\" class=\"edge\">\n",
       "<title>140576958950608&#45;&gt;140577021700512+</title>\n",
       "<path fill=\"none\" stroke=\"black\" d=\"M545.78,-90.68C554.79,-92.1 563.43,-93.46 571.25,-94.7\"/>\n",
       "<polygon fill=\"black\" stroke=\"black\" points=\"570.51,-98.12 580.94,-96.23 571.61,-91.21 570.51,-98.12\"/>\n",
       "</g>\n",
       "<!-- 140576958950608*&#45;&gt;140576958950608 -->\n",
       "<g id=\"edge2\" class=\"edge\">\n",
       "<title>140576958950608*&#45;&gt;140576958950608</title>\n",
       "<path fill=\"none\" stroke=\"black\" d=\"M290.34,-73.5C297.6,-73.5 305.98,-73.5 314.97,-73.5\"/>\n",
       "<polygon fill=\"black\" stroke=\"black\" points=\"314.69,-77 324.69,-73.5 314.69,-70 314.69,-77\"/>\n",
       "</g>\n",
       "<!-- 140577024099088 -->\n",
       "<g id=\"node8\" class=\"node\">\n",
       "<title>140577024099088</title>\n",
       "<polygon fill=\"none\" stroke=\"black\" points=\"1368,-54.5 1368,-90.5 1553,-90.5 1553,-54.5 1368,-54.5\"/>\n",
       "<text text-anchor=\"middle\" x=\"1379.5\" y=\"-68.8\" font-family=\"Times,serif\" font-size=\"14.00\">o</text>\n",
       "<polyline fill=\"none\" stroke=\"black\" points=\"1391,-54.5 1391,-90.5\"/>\n",
       "<text text-anchor=\"middle\" x=\"1431\" y=\"-68.8\" font-family=\"Times,serif\" font-size=\"14.00\">data 0.7071</text>\n",
       "<polyline fill=\"none\" stroke=\"black\" points=\"1471,-54.5 1471,-90.5\"/>\n",
       "<text text-anchor=\"middle\" x=\"1512\" y=\"-68.8\" font-family=\"Times,serif\" font-size=\"14.00\">grad 1.0000</text>\n",
       "</g>\n",
       "<!-- 140577024099088tanh&#45;&gt;140577024099088 -->\n",
       "<g id=\"edge3\" class=\"edge\">\n",
       "<title>140577024099088tanh&#45;&gt;140577024099088</title>\n",
       "<path fill=\"none\" stroke=\"black\" d=\"M1332.39,-72.5C1339.62,-72.5 1347.92,-72.5 1356.74,-72.5\"/>\n",
       "<polygon fill=\"black\" stroke=\"black\" points=\"1356.64,-76 1366.64,-72.5 1356.64,-69 1356.64,-76\"/>\n",
       "</g>\n",
       "<!-- 140577023803152 -->\n",
       "<g id=\"node10\" class=\"node\">\n",
       "<title>140577023803152</title>\n",
       "<polygon fill=\"none\" stroke=\"black\" points=\"328.5,-110.5 328.5,-146.5 543.5,-146.5 543.5,-110.5 328.5,-110.5\"/>\n",
       "<text text-anchor=\"middle\" x=\"355\" y=\"-124.8\" font-family=\"Times,serif\" font-size=\"14.00\">x2*w2</text>\n",
       "<polyline fill=\"none\" stroke=\"black\" points=\"381.5,-110.5 381.5,-146.5\"/>\n",
       "<text text-anchor=\"middle\" x=\"421.5\" y=\"-124.8\" font-family=\"Times,serif\" font-size=\"14.00\">data 0.0000</text>\n",
       "<polyline fill=\"none\" stroke=\"black\" points=\"461.5,-110.5 461.5,-146.5\"/>\n",
       "<text text-anchor=\"middle\" x=\"502.5\" y=\"-124.8\" font-family=\"Times,serif\" font-size=\"14.00\">grad 0.5001</text>\n",
       "</g>\n",
       "<!-- 140577023803152&#45;&gt;140577021700512+ -->\n",
       "<g id=\"edge9\" class=\"edge\">\n",
       "<title>140577023803152&#45;&gt;140577021700512+</title>\n",
       "<path fill=\"none\" stroke=\"black\" d=\"M543.35,-111.09C553.14,-109.48 562.54,-107.94 570.99,-106.56\"/>\n",
       "<polygon fill=\"black\" stroke=\"black\" points=\"571.46,-110.03 580.76,-104.96 570.33,-103.12 571.46,-110.03\"/>\n",
       "</g>\n",
       "<!-- 140577023803152*&#45;&gt;140577023803152 -->\n",
       "<g id=\"edge4\" class=\"edge\">\n",
       "<title>140577023803152*&#45;&gt;140577023803152</title>\n",
       "<path fill=\"none\" stroke=\"black\" d=\"M290.34,-128.5C298.24,-128.5 307.46,-128.5 317.34,-128.5\"/>\n",
       "<polygon fill=\"black\" stroke=\"black\" points=\"317.24,-132 327.24,-128.5 317.24,-125 317.24,-132\"/>\n",
       "</g>\n",
       "<!-- 140577023302480 -->\n",
       "<g id=\"node12\" class=\"node\">\n",
       "<title>140577023302480</title>\n",
       "<polygon fill=\"none\" stroke=\"black\" points=\"0,-0.5 0,-36.5 200,-36.5 200,-0.5 0,-0.5\"/>\n",
       "<text text-anchor=\"middle\" x=\"16.5\" y=\"-14.8\" font-family=\"Times,serif\" font-size=\"14.00\">w1</text>\n",
       "<polyline fill=\"none\" stroke=\"black\" points=\"33,-0.5 33,-36.5\"/>\n",
       "<text text-anchor=\"middle\" x=\"75.5\" y=\"-14.8\" font-family=\"Times,serif\" font-size=\"14.00\">data &#45;3.0000</text>\n",
       "<polyline fill=\"none\" stroke=\"black\" points=\"118,-0.5 118,-36.5\"/>\n",
       "<text text-anchor=\"middle\" x=\"159\" y=\"-14.8\" font-family=\"Times,serif\" font-size=\"14.00\">grad 1.0001</text>\n",
       "</g>\n",
       "<!-- 140577023302480&#45;&gt;140576958950608* -->\n",
       "<g id=\"edge11\" class=\"edge\">\n",
       "<title>140577023302480&#45;&gt;140576958950608*</title>\n",
       "<path fill=\"none\" stroke=\"black\" d=\"M169.02,-36.42C179.47,-39.56 190.08,-42.95 200,-46.5 209.96,-50.06 220.59,-54.46 230.18,-58.66\"/>\n",
       "<polygon fill=\"black\" stroke=\"black\" points=\"228.54,-61.76 239.1,-62.66 231.4,-55.37 228.54,-61.76\"/>\n",
       "</g>\n",
       "<!-- 140577021700512 -->\n",
       "<g id=\"node13\" class=\"node\">\n",
       "<title>140577021700512</title>\n",
       "<polygon fill=\"none\" stroke=\"black\" points=\"672,-82.5 672,-118.5 931,-118.5 931,-82.5 672,-82.5\"/>\n",
       "<text text-anchor=\"middle\" x=\"718\" y=\"-96.8\" font-family=\"Times,serif\" font-size=\"14.00\">x1w1 + x2w2</text>\n",
       "<polyline fill=\"none\" stroke=\"black\" points=\"764,-82.5 764,-118.5\"/>\n",
       "<text text-anchor=\"middle\" x=\"806.5\" y=\"-96.8\" font-family=\"Times,serif\" font-size=\"14.00\">data &#45;6.0000</text>\n",
       "<polyline fill=\"none\" stroke=\"black\" points=\"849,-82.5 849,-118.5\"/>\n",
       "<text text-anchor=\"middle\" x=\"890\" y=\"-96.8\" font-family=\"Times,serif\" font-size=\"14.00\">grad 0.5001</text>\n",
       "</g>\n",
       "<!-- 140577021700512&#45;&gt;140577024099472+ -->\n",
       "<g id=\"edge13\" class=\"edge\">\n",
       "<title>140577021700512&#45;&gt;140577024099472+</title>\n",
       "<path fill=\"none\" stroke=\"black\" d=\"M924.76,-82.53C935.97,-80.88 946.64,-79.31 956.06,-77.93\"/>\n",
       "<polygon fill=\"black\" stroke=\"black\" points=\"956.4,-81.42 965.79,-76.5 955.39,-74.49 956.4,-81.42\"/>\n",
       "</g>\n",
       "<!-- 140577021700512+&#45;&gt;140577021700512 -->\n",
       "<g id=\"edge5\" class=\"edge\">\n",
       "<title>140577021700512+&#45;&gt;140577021700512</title>\n",
       "<path fill=\"none\" stroke=\"black\" d=\"M636.49,-100.5C643.68,-100.5 652,-100.5 660.99,-100.5\"/>\n",
       "<polygon fill=\"black\" stroke=\"black\" points=\"660.76,-104 670.76,-100.5 660.76,-97 660.76,-104\"/>\n",
       "</g>\n",
       "<!-- 140577023303104 -->\n",
       "<g id=\"node15\" class=\"node\">\n",
       "<title>140577023303104</title>\n",
       "<polygon fill=\"none\" stroke=\"black\" points=\"2.5,-110.5 2.5,-146.5 197.5,-146.5 197.5,-110.5 2.5,-110.5\"/>\n",
       "<text text-anchor=\"middle\" x=\"19\" y=\"-124.8\" font-family=\"Times,serif\" font-size=\"14.00\">w2</text>\n",
       "<polyline fill=\"none\" stroke=\"black\" points=\"35.5,-110.5 35.5,-146.5\"/>\n",
       "<text text-anchor=\"middle\" x=\"75.5\" y=\"-124.8\" font-family=\"Times,serif\" font-size=\"14.00\">data 1.0000</text>\n",
       "<polyline fill=\"none\" stroke=\"black\" points=\"115.5,-110.5 115.5,-146.5\"/>\n",
       "<text text-anchor=\"middle\" x=\"156.5\" y=\"-124.8\" font-family=\"Times,serif\" font-size=\"14.00\">grad 0.0000</text>\n",
       "</g>\n",
       "<!-- 140577023303104&#45;&gt;140577023803152* -->\n",
       "<g id=\"edge7\" class=\"edge\">\n",
       "<title>140577023303104&#45;&gt;140577023803152*</title>\n",
       "<path fill=\"none\" stroke=\"black\" d=\"M197.44,-128.5C206.89,-128.5 216.04,-128.5 224.32,-128.5\"/>\n",
       "<polygon fill=\"black\" stroke=\"black\" points=\"224.28,-132 234.28,-128.5 224.28,-125 224.28,-132\"/>\n",
       "</g>\n",
       "</g>\n",
       "</svg>\n"
      ],
      "text/plain": [
       "<graphviz.graphs.Digraph at 0x7fdaa3899040>"
      ]
     },
     "execution_count": 66,
     "metadata": {},
     "output_type": "execute_result"
    }
   ],
   "source": [
    "draw_dot(o)"
   ]
  },
  {
   "cell_type": "code",
   "execution_count": 65,
   "metadata": {},
   "outputs": [],
   "source": [
    "o.grad = 1.0\n",
    "o._backward()\n",
    "n._backward()\n",
    "x1w1x2w2._backward()\n",
    "x1w1._backward()\n",
    "x2w2._backward()\n",
    "\n",
    "# o.grad = 1.0\n",
    "# n.grad = 0.5\n",
    "# x1w1x2w2.grad = 0.5\n",
    "# b.grad = 0.5\n",
    "# x1w1.grad = 0.5\n",
    "# x2w2.grad = 0.5\n",
    "# w2.grad = x2.data *x2w2.grad\n",
    "# x2.grad = w2.data *x2w2.grad\n",
    "# w1.grad = x1.data *x1w1.grad\n",
    "# x1.grad = w1.data *x1w1.grad"
   ]
  }
 ],
 "metadata": {
  "kernelspec": {
   "display_name": "Python 3",
   "language": "python",
   "name": "python3"
  },
  "language_info": {
   "codemirror_mode": {
    "name": "ipython",
    "version": 3
   },
   "file_extension": ".py",
   "mimetype": "text/x-python",
   "name": "python",
   "nbconvert_exporter": "python",
   "pygments_lexer": "ipython3",
   "version": "3.8.5"
  }
 },
 "nbformat": 4,
 "nbformat_minor": 4
}
